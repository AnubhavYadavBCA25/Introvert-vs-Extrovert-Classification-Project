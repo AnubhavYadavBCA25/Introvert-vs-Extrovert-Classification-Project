{
 "cells": [
  {
   "cell_type": "markdown",
   "id": "6746fc6a",
   "metadata": {},
   "source": [
    "## Introvert vs Extrovert Classification Model Training"
   ]
  },
  {
   "cell_type": "markdown",
   "id": "35f329e3",
   "metadata": {},
   "source": [
    "### Import Required Libraries"
   ]
  },
  {
   "cell_type": "code",
   "execution_count": 1,
   "id": "e7b344fd",
   "metadata": {},
   "outputs": [],
   "source": [
    "import numpy as np\n",
    "import pandas as pd\n",
    "import matplotlib.pyplot as plt\n",
    "import seaborn as sns\n",
    "from sklearn.model_selection import train_test_split\n",
    "from sklearn.preprocessing import StandardScaler\n",
    "from sklearn.model_selection import GridSearchCV\n",
    "\n",
    "# Classification Models\n",
    "from sklearn.linear_model import LogisticRegression\n",
    "from sklearn.ensemble import RandomForestClassifier, AdaBoostClassifier, GradientBoostingClassifier, ExtraTreesClassifier\n",
    "from sklearn.svm import SVC\n",
    "from sklearn.tree import DecisionTreeClassifier\n",
    "from sklearn.neighbors import KNeighborsClassifier\n",
    "from xgboost import XGBClassifier\n",
    "from sklearn.naive_bayes import GaussianNB\n",
    "\n",
    "# Evaluation Metrics\n",
    "from sklearn.metrics import accuracy_score, confusion_matrix, classification_report\n",
    "from sklearn.metrics import f1_score, precision_score, recall_score"
   ]
  },
  {
   "cell_type": "markdown",
   "id": "2d53e388",
   "metadata": {},
   "source": [
    "### Load Cleaned and Encoded Dataset"
   ]
  },
  {
   "cell_type": "code",
   "execution_count": 2,
   "id": "fb2bea0e",
   "metadata": {},
   "outputs": [
    {
     "data": {
      "text/html": [
       "<div>\n",
       "<style scoped>\n",
       "    .dataframe tbody tr th:only-of-type {\n",
       "        vertical-align: middle;\n",
       "    }\n",
       "\n",
       "    .dataframe tbody tr th {\n",
       "        vertical-align: top;\n",
       "    }\n",
       "\n",
       "    .dataframe thead th {\n",
       "        text-align: right;\n",
       "    }\n",
       "</style>\n",
       "<table border=\"1\" class=\"dataframe\">\n",
       "  <thead>\n",
       "    <tr style=\"text-align: right;\">\n",
       "      <th></th>\n",
       "      <th>Time_spent_Alone</th>\n",
       "      <th>Stage_fear</th>\n",
       "      <th>Social_event_attendance</th>\n",
       "      <th>Going_outside</th>\n",
       "      <th>Drained_after_socializing</th>\n",
       "      <th>Friends_circle_size</th>\n",
       "      <th>Post_frequency</th>\n",
       "      <th>Personality</th>\n",
       "    </tr>\n",
       "  </thead>\n",
       "  <tbody>\n",
       "    <tr>\n",
       "      <th>0</th>\n",
       "      <td>4.0</td>\n",
       "      <td>0</td>\n",
       "      <td>4.0</td>\n",
       "      <td>6.0</td>\n",
       "      <td>0</td>\n",
       "      <td>13.0</td>\n",
       "      <td>5.0</td>\n",
       "      <td>0</td>\n",
       "    </tr>\n",
       "    <tr>\n",
       "      <th>1</th>\n",
       "      <td>9.0</td>\n",
       "      <td>1</td>\n",
       "      <td>0.0</td>\n",
       "      <td>0.0</td>\n",
       "      <td>1</td>\n",
       "      <td>0.0</td>\n",
       "      <td>3.0</td>\n",
       "      <td>1</td>\n",
       "    </tr>\n",
       "    <tr>\n",
       "      <th>2</th>\n",
       "      <td>9.0</td>\n",
       "      <td>1</td>\n",
       "      <td>1.0</td>\n",
       "      <td>2.0</td>\n",
       "      <td>1</td>\n",
       "      <td>5.0</td>\n",
       "      <td>2.0</td>\n",
       "      <td>1</td>\n",
       "    </tr>\n",
       "    <tr>\n",
       "      <th>3</th>\n",
       "      <td>0.0</td>\n",
       "      <td>0</td>\n",
       "      <td>6.0</td>\n",
       "      <td>7.0</td>\n",
       "      <td>0</td>\n",
       "      <td>14.0</td>\n",
       "      <td>8.0</td>\n",
       "      <td>0</td>\n",
       "    </tr>\n",
       "    <tr>\n",
       "      <th>4</th>\n",
       "      <td>3.0</td>\n",
       "      <td>0</td>\n",
       "      <td>9.0</td>\n",
       "      <td>4.0</td>\n",
       "      <td>0</td>\n",
       "      <td>8.0</td>\n",
       "      <td>5.0</td>\n",
       "      <td>0</td>\n",
       "    </tr>\n",
       "  </tbody>\n",
       "</table>\n",
       "</div>"
      ],
      "text/plain": [
       "   Time_spent_Alone  Stage_fear  Social_event_attendance  Going_outside  \\\n",
       "0               4.0           0                      4.0            6.0   \n",
       "1               9.0           1                      0.0            0.0   \n",
       "2               9.0           1                      1.0            2.0   \n",
       "3               0.0           0                      6.0            7.0   \n",
       "4               3.0           0                      9.0            4.0   \n",
       "\n",
       "   Drained_after_socializing  Friends_circle_size  Post_frequency  Personality  \n",
       "0                          0                 13.0             5.0            0  \n",
       "1                          1                  0.0             3.0            1  \n",
       "2                          1                  5.0             2.0            1  \n",
       "3                          0                 14.0             8.0            0  \n",
       "4                          0                  8.0             5.0            0  "
      ]
     },
     "execution_count": 2,
     "metadata": {},
     "output_type": "execute_result"
    }
   ],
   "source": [
    "df = pd.read_csv('data/clean_encoded_data.csv')\n",
    "df.head()"
   ]
  },
  {
   "cell_type": "markdown",
   "id": "4df0bed3",
   "metadata": {},
   "source": [
    "### Data Splitting into Dependent and Independent Features"
   ]
  },
  {
   "cell_type": "code",
   "execution_count": 3,
   "id": "8277b1c4",
   "metadata": {},
   "outputs": [],
   "source": [
    "# Independent Features\n",
    "X = df.drop(columns=['Personality'], axis=1)\n",
    "\n",
    "# Dependent Feature\n",
    "y = df['Personality']"
   ]
  },
  {
   "cell_type": "code",
   "execution_count": 4,
   "id": "0f75e5f3",
   "metadata": {},
   "outputs": [
    {
     "data": {
      "text/html": [
       "<div>\n",
       "<style scoped>\n",
       "    .dataframe tbody tr th:only-of-type {\n",
       "        vertical-align: middle;\n",
       "    }\n",
       "\n",
       "    .dataframe tbody tr th {\n",
       "        vertical-align: top;\n",
       "    }\n",
       "\n",
       "    .dataframe thead th {\n",
       "        text-align: right;\n",
       "    }\n",
       "</style>\n",
       "<table border=\"1\" class=\"dataframe\">\n",
       "  <thead>\n",
       "    <tr style=\"text-align: right;\">\n",
       "      <th></th>\n",
       "      <th>Time_spent_Alone</th>\n",
       "      <th>Stage_fear</th>\n",
       "      <th>Social_event_attendance</th>\n",
       "      <th>Going_outside</th>\n",
       "      <th>Drained_after_socializing</th>\n",
       "      <th>Friends_circle_size</th>\n",
       "      <th>Post_frequency</th>\n",
       "    </tr>\n",
       "  </thead>\n",
       "  <tbody>\n",
       "    <tr>\n",
       "      <th>0</th>\n",
       "      <td>4.0</td>\n",
       "      <td>0</td>\n",
       "      <td>4.0</td>\n",
       "      <td>6.0</td>\n",
       "      <td>0</td>\n",
       "      <td>13.0</td>\n",
       "      <td>5.0</td>\n",
       "    </tr>\n",
       "    <tr>\n",
       "      <th>1</th>\n",
       "      <td>9.0</td>\n",
       "      <td>1</td>\n",
       "      <td>0.0</td>\n",
       "      <td>0.0</td>\n",
       "      <td>1</td>\n",
       "      <td>0.0</td>\n",
       "      <td>3.0</td>\n",
       "    </tr>\n",
       "    <tr>\n",
       "      <th>2</th>\n",
       "      <td>9.0</td>\n",
       "      <td>1</td>\n",
       "      <td>1.0</td>\n",
       "      <td>2.0</td>\n",
       "      <td>1</td>\n",
       "      <td>5.0</td>\n",
       "      <td>2.0</td>\n",
       "    </tr>\n",
       "    <tr>\n",
       "      <th>3</th>\n",
       "      <td>0.0</td>\n",
       "      <td>0</td>\n",
       "      <td>6.0</td>\n",
       "      <td>7.0</td>\n",
       "      <td>0</td>\n",
       "      <td>14.0</td>\n",
       "      <td>8.0</td>\n",
       "    </tr>\n",
       "    <tr>\n",
       "      <th>4</th>\n",
       "      <td>3.0</td>\n",
       "      <td>0</td>\n",
       "      <td>9.0</td>\n",
       "      <td>4.0</td>\n",
       "      <td>0</td>\n",
       "      <td>8.0</td>\n",
       "      <td>5.0</td>\n",
       "    </tr>\n",
       "  </tbody>\n",
       "</table>\n",
       "</div>"
      ],
      "text/plain": [
       "   Time_spent_Alone  Stage_fear  Social_event_attendance  Going_outside  \\\n",
       "0               4.0           0                      4.0            6.0   \n",
       "1               9.0           1                      0.0            0.0   \n",
       "2               9.0           1                      1.0            2.0   \n",
       "3               0.0           0                      6.0            7.0   \n",
       "4               3.0           0                      9.0            4.0   \n",
       "\n",
       "   Drained_after_socializing  Friends_circle_size  Post_frequency  \n",
       "0                          0                 13.0             5.0  \n",
       "1                          1                  0.0             3.0  \n",
       "2                          1                  5.0             2.0  \n",
       "3                          0                 14.0             8.0  \n",
       "4                          0                  8.0             5.0  "
      ]
     },
     "execution_count": 4,
     "metadata": {},
     "output_type": "execute_result"
    }
   ],
   "source": [
    "X.head()"
   ]
  },
  {
   "cell_type": "code",
   "execution_count": 5,
   "id": "0eea190b",
   "metadata": {},
   "outputs": [
    {
     "data": {
      "text/plain": [
       "0    0\n",
       "1    1\n",
       "2    1\n",
       "3    0\n",
       "4    0\n",
       "Name: Personality, dtype: int64"
      ]
     },
     "execution_count": 5,
     "metadata": {},
     "output_type": "execute_result"
    }
   ],
   "source": [
    "y.head()"
   ]
  },
  {
   "cell_type": "markdown",
   "id": "86182e03",
   "metadata": {},
   "source": [
    "### Splitting Data into Training and Testing"
   ]
  },
  {
   "cell_type": "code",
   "execution_count": 6,
   "id": "76521870",
   "metadata": {},
   "outputs": [
    {
     "data": {
      "text/plain": [
       "((2244, 7), (562, 7), (2244,), (562,))"
      ]
     },
     "execution_count": 6,
     "metadata": {},
     "output_type": "execute_result"
    }
   ],
   "source": [
    "X_train, X_test, y_train, y_test = train_test_split(X, y, test_size=0.2, random_state=42)\n",
    "\n",
    "X_train.shape, X_test.shape, y_train.shape, y_test.shape"
   ]
  },
  {
   "cell_type": "markdown",
   "id": "38f43c80",
   "metadata": {},
   "source": [
    "### Feature Scaling"
   ]
  },
  {
   "cell_type": "code",
   "execution_count": 7,
   "id": "5b66d6db",
   "metadata": {},
   "outputs": [],
   "source": [
    "scaler = StandardScaler()\n",
    "\n",
    "X_train = scaler.fit_transform(X_train)\n",
    "X_test = scaler.transform(X_test)"
   ]
  },
  {
   "cell_type": "code",
   "execution_count": 8,
   "id": "81eb8712",
   "metadata": {},
   "outputs": [
    {
     "data": {
      "text/plain": [
       "array([[-0.70671084, -0.97534832,  0.6159719 , ..., -0.98320694,\n",
       "         0.33620925,  1.43783553],\n",
       "       [-0.70671084, -0.97534832,  1.67068535, ..., -0.98320694,\n",
       "         1.74756635,  0.74283619],\n",
       "       [ 0.74776155,  1.02527474, -1.14188385, ...,  1.01707989,\n",
       "        -0.3694693 , -1.34216182],\n",
       "       ...,\n",
       "       [ 1.62044499,  1.02527474, -1.14188385, ...,  1.01707989,\n",
       "        -1.07514785, -0.64716248],\n",
       "       [-0.41581636, -0.97534832,  0.6159719 , ..., -0.98320694,\n",
       "         1.51234017,  1.43783553],\n",
       "       [ 1.03865603,  1.02527474, -1.493455  , ...,  1.01707989,\n",
       "        -0.3694693 , -1.34216182]], shape=(2244, 7))"
      ]
     },
     "execution_count": 8,
     "metadata": {},
     "output_type": "execute_result"
    }
   ],
   "source": [
    "X_train"
   ]
  },
  {
   "cell_type": "code",
   "execution_count": 9,
   "id": "0c54e662",
   "metadata": {},
   "outputs": [
    {
     "data": {
      "text/plain": [
       "array([[-1.16437295,  1.02527474,  0.90925824, ...,  1.01707989,\n",
       "        -1.1832046 ,  0.78391183],\n",
       "       [ 1.32597901,  1.02527474,  1.13588678, ...,  1.01707989,\n",
       "         0.23557516, -0.30176756],\n",
       "       [ 1.62044499,  1.02527474, -0.43874155, ...,  1.01707989,\n",
       "        -0.07099952, -0.64716248],\n",
       "       ...,\n",
       "       [ 0.0222172 ,  1.02527474, -0.43874155, ...,  1.01707989,\n",
       "        -0.60469549, -1.34216182],\n",
       "       [ 0.1659726 ,  1.02527474, -0.7903127 , ...,  1.01707989,\n",
       "        -0.60469549, -1.34216182],\n",
       "       [-0.99760532, -0.97534832,  0.6159719 , ..., -0.98320694,\n",
       "         0.57143543,  0.39533652]], shape=(562, 7))"
      ]
     },
     "execution_count": 9,
     "metadata": {},
     "output_type": "execute_result"
    }
   ],
   "source": [
    "X_test"
   ]
  },
  {
   "cell_type": "markdown",
   "id": "08d81e8f",
   "metadata": {},
   "source": [
    "### Model Training"
   ]
  },
  {
   "cell_type": "markdown",
   "id": "76d844e5",
   "metadata": {},
   "source": [
    "**Create an Evaluate Function to give all Metrics After Model Training**"
   ]
  },
  {
   "cell_type": "code",
   "execution_count": 10,
   "id": "abfa936d",
   "metadata": {},
   "outputs": [],
   "source": [
    "def evaluate_model(y_pred, y_test):\n",
    "    accuracy = accuracy_score(y_test, y_pred)\n",
    "    precision = precision_score(y_test, y_pred)\n",
    "    recall = recall_score(y_test, y_pred)\n",
    "    f1_scr = f1_score(y_test, y_pred)\n",
    "    return accuracy, precision, recall, f1_scr"
   ]
  },
  {
   "cell_type": "code",
   "execution_count": 17,
   "id": "44bc165e",
   "metadata": {},
   "outputs": [
    {
     "name": "stdout",
     "output_type": "stream",
     "text": [
      "Logistic Regression\n",
      "Model Performance for Training set\n",
      "- Accuracy Score: 0.91\n",
      "- Precision Score: 0.90\n",
      "- F1 Score: 0.91\n",
      "- Recall Score: 0.92\n",
      "----------------------------------\n",
      "Model Performance for Testing set\n",
      "- Accuracy Score: 0.92\n",
      "- Precision Score: 0.91\n",
      "- F1 Score: 0.92\n",
      "- Recall Score: 0.93\n",
      "===================================\n",
      "\n",
      "\n",
      "Decision Tree\n",
      "Model Performance for Training set\n",
      "- Accuracy Score: 0.98\n",
      "- Precision Score: 0.97\n",
      "- F1 Score: 0.98\n",
      "- Recall Score: 1.00\n",
      "----------------------------------\n",
      "Model Performance for Testing set\n",
      "- Accuracy Score: 0.86\n",
      "- Precision Score: 0.86\n",
      "- F1 Score: 0.86\n",
      "- Recall Score: 0.87\n",
      "===================================\n",
      "\n",
      "\n",
      "Random Forest\n",
      "Model Performance for Training set\n",
      "- Accuracy Score: 0.98\n",
      "- Precision Score: 0.99\n",
      "- F1 Score: 0.98\n",
      "- Recall Score: 0.97\n",
      "----------------------------------\n",
      "Model Performance for Testing set\n",
      "- Accuracy Score: 0.91\n",
      "- Precision Score: 0.90\n",
      "- F1 Score: 0.91\n",
      "- Recall Score: 0.91\n",
      "===================================\n",
      "\n",
      "\n",
      "Ada Boost\n",
      "Model Performance for Training set\n",
      "- Accuracy Score: 0.92\n",
      "- Precision Score: 0.91\n",
      "- F1 Score: 0.92\n",
      "- Recall Score: 0.92\n",
      "----------------------------------\n",
      "Model Performance for Testing set\n",
      "- Accuracy Score: 0.92\n",
      "- Precision Score: 0.91\n",
      "- F1 Score: 0.92\n",
      "- Recall Score: 0.93\n",
      "===================================\n",
      "\n",
      "\n",
      "Extra Tree\n",
      "Model Performance for Training set\n",
      "- Accuracy Score: 0.98\n",
      "- Precision Score: 0.97\n",
      "- F1 Score: 0.98\n",
      "- Recall Score: 1.00\n",
      "----------------------------------\n",
      "Model Performance for Testing set\n",
      "- Accuracy Score: 0.91\n",
      "- Precision Score: 0.91\n",
      "- F1 Score: 0.91\n",
      "- Recall Score: 0.91\n",
      "===================================\n",
      "\n",
      "\n",
      "KNN\n",
      "Model Performance for Training set\n",
      "- Accuracy Score: 0.94\n",
      "- Precision Score: 0.94\n",
      "- F1 Score: 0.94\n",
      "- Recall Score: 0.93\n",
      "----------------------------------\n",
      "Model Performance for Testing set\n",
      "- Accuracy Score: 0.93\n",
      "- Precision Score: 0.94\n",
      "- F1 Score: 0.93\n",
      "- Recall Score: 0.93\n",
      "===================================\n",
      "\n",
      "\n",
      "Gaussian Naive Bayes\n",
      "Model Performance for Training set\n",
      "- Accuracy Score: 0.93\n",
      "- Precision Score: 0.93\n",
      "- F1 Score: 0.93\n",
      "- Recall Score: 0.92\n",
      "----------------------------------\n",
      "Model Performance for Testing set\n",
      "- Accuracy Score: 0.93\n",
      "- Precision Score: 0.92\n",
      "- F1 Score: 0.92\n",
      "- Recall Score: 0.93\n",
      "===================================\n",
      "\n",
      "\n",
      "XG Boost\n",
      "Model Performance for Training set\n",
      "- Accuracy Score: 0.97\n",
      "- Precision Score: 0.98\n",
      "- F1 Score: 0.97\n",
      "- Recall Score: 0.96\n",
      "----------------------------------\n",
      "Model Performance for Testing set\n",
      "- Accuracy Score: 0.90\n",
      "- Precision Score: 0.90\n",
      "- F1 Score: 0.90\n",
      "- Recall Score: 0.91\n",
      "===================================\n",
      "\n",
      "\n",
      "Gradient Boosting\n",
      "Model Performance for Training set\n",
      "- Accuracy Score: 0.93\n",
      "- Precision Score: 0.94\n",
      "- F1 Score: 0.93\n",
      "- Recall Score: 0.92\n",
      "----------------------------------\n",
      "Model Performance for Testing set\n",
      "- Accuracy Score: 0.94\n",
      "- Precision Score: 0.94\n",
      "- F1 Score: 0.94\n",
      "- Recall Score: 0.93\n",
      "===================================\n",
      "\n",
      "\n",
      "SVM\n",
      "Model Performance for Training set\n",
      "- Accuracy Score: 0.93\n",
      "- Precision Score: 0.94\n",
      "- F1 Score: 0.93\n",
      "- Recall Score: 0.92\n",
      "----------------------------------\n",
      "Model Performance for Testing set\n",
      "- Accuracy Score: 0.94\n",
      "- Precision Score: 0.94\n",
      "- F1 Score: 0.94\n",
      "- Recall Score: 0.93\n",
      "===================================\n",
      "\n",
      "\n"
     ]
    }
   ],
   "source": [
    "models = {\n",
    "    \"Logistic Regression\": LogisticRegression(),\n",
    "    \"Decision Tree\": DecisionTreeClassifier(),\n",
    "    \"Random Forest\": RandomForestClassifier(),\n",
    "    \"Ada Boost\": AdaBoostClassifier(),\n",
    "    \"Extra Tree\": ExtraTreesClassifier(),\n",
    "    \"KNN\": KNeighborsClassifier(),\n",
    "    \"Gaussian Naive Bayes\": GaussianNB(),\n",
    "    \"XG Boost\": XGBClassifier(),\n",
    "    \"Gradient Boosting\": GradientBoostingClassifier(),\n",
    "    \"SVM\": SVC()\n",
    "}\n",
    "\n",
    "model_list = []\n",
    "accuracy_list = []\n",
    "\n",
    "for i in range(len(list(models))):\n",
    "    model = list(models.values())[i]\n",
    "    model.fit(X_train, y_train)\n",
    "\n",
    "    # Make predictions\n",
    "    y_train_pred = model.predict(X_train)\n",
    "    y_test_pred = model.predict(X_test)\n",
    "\n",
    "    # Evaluate Train and Test Dataset\n",
    "    model_train_acc, model_train_precision, model_train_recall, model_train_f1_score = evaluate_model(y_train, y_train_pred)\n",
    "    model_test_acc, model_test_precision, model_test_recall, model_test_f1_score = evaluate_model(y_test, y_test_pred)\n",
    "\n",
    "    print(list(models.keys())[i])\n",
    "    model_list.append(list(models.keys())[i])\n",
    "\n",
    "    print(\"Model Performance for Training set\")\n",
    "    print(f\"- Accuracy Score: {model_train_acc:.2f}\")\n",
    "    print(f\"- Precision Score: {model_train_precision:.2f}\")\n",
    "    print(f\"- F1 Score: {model_train_f1_score:.2f}\")\n",
    "    print(f\"- Recall Score: {model_train_recall:.2f}\")\n",
    "\n",
    "    print('----------------------------------')\n",
    "\n",
    "    print(\"Model Performance for Testing set\")\n",
    "    print(f\"- Accuracy Score: {model_test_acc:.2f}\")\n",
    "    print(f\"- Precision Score: {model_test_precision:.2f}\")\n",
    "    print(f\"- F1 Score: {model_test_f1_score:.2f}\")\n",
    "    print(f\"- Recall Score: {model_test_recall:.2f}\")\n",
    "\n",
    "    accuracy_list.append(model_test_acc)\n",
    "\n",
    "    print('='*35)\n",
    "    print('\\n')"
   ]
  },
  {
   "cell_type": "markdown",
   "id": "bf34dfb2",
   "metadata": {},
   "source": [
    "#### Results"
   ]
  },
  {
   "cell_type": "code",
   "execution_count": 18,
   "id": "2503785a",
   "metadata": {},
   "outputs": [],
   "source": [
    "accuracy_df = pd.DataFrame(list(zip(model_list, accuracy_list)), columns=['Model', 'Accuracy Score']).sort_values(by='Accuracy Score', ascending=False)"
   ]
  },
  {
   "cell_type": "code",
   "execution_count": 19,
   "id": "2d735f09",
   "metadata": {},
   "outputs": [
    {
     "data": {
      "text/html": [
       "<div>\n",
       "<style scoped>\n",
       "    .dataframe tbody tr th:only-of-type {\n",
       "        vertical-align: middle;\n",
       "    }\n",
       "\n",
       "    .dataframe tbody tr th {\n",
       "        vertical-align: top;\n",
       "    }\n",
       "\n",
       "    .dataframe thead th {\n",
       "        text-align: right;\n",
       "    }\n",
       "</style>\n",
       "<table border=\"1\" class=\"dataframe\">\n",
       "  <thead>\n",
       "    <tr style=\"text-align: right;\">\n",
       "      <th></th>\n",
       "      <th>Model</th>\n",
       "      <th>Accuracy Score</th>\n",
       "    </tr>\n",
       "  </thead>\n",
       "  <tbody>\n",
       "    <tr>\n",
       "      <th>9</th>\n",
       "      <td>SVM</td>\n",
       "      <td>0.937722</td>\n",
       "    </tr>\n",
       "    <tr>\n",
       "      <th>8</th>\n",
       "      <td>Gradient Boosting</td>\n",
       "      <td>0.937722</td>\n",
       "    </tr>\n",
       "    <tr>\n",
       "      <th>5</th>\n",
       "      <td>KNN</td>\n",
       "      <td>0.932384</td>\n",
       "    </tr>\n",
       "    <tr>\n",
       "      <th>6</th>\n",
       "      <td>Gaussian Naive Bayes</td>\n",
       "      <td>0.925267</td>\n",
       "    </tr>\n",
       "    <tr>\n",
       "      <th>0</th>\n",
       "      <td>Logistic Regression</td>\n",
       "      <td>0.921708</td>\n",
       "    </tr>\n",
       "    <tr>\n",
       "      <th>3</th>\n",
       "      <td>Ada Boost</td>\n",
       "      <td>0.919929</td>\n",
       "    </tr>\n",
       "    <tr>\n",
       "      <th>2</th>\n",
       "      <td>Random Forest</td>\n",
       "      <td>0.909253</td>\n",
       "    </tr>\n",
       "    <tr>\n",
       "      <th>4</th>\n",
       "      <td>Extra Tree</td>\n",
       "      <td>0.907473</td>\n",
       "    </tr>\n",
       "    <tr>\n",
       "      <th>7</th>\n",
       "      <td>XG Boost</td>\n",
       "      <td>0.902135</td>\n",
       "    </tr>\n",
       "    <tr>\n",
       "      <th>1</th>\n",
       "      <td>Decision Tree</td>\n",
       "      <td>0.864769</td>\n",
       "    </tr>\n",
       "  </tbody>\n",
       "</table>\n",
       "</div>"
      ],
      "text/plain": [
       "                  Model  Accuracy Score\n",
       "9                   SVM        0.937722\n",
       "8     Gradient Boosting        0.937722\n",
       "5                   KNN        0.932384\n",
       "6  Gaussian Naive Bayes        0.925267\n",
       "0   Logistic Regression        0.921708\n",
       "3             Ada Boost        0.919929\n",
       "2         Random Forest        0.909253\n",
       "4            Extra Tree        0.907473\n",
       "7              XG Boost        0.902135\n",
       "1         Decision Tree        0.864769"
      ]
     },
     "execution_count": 19,
     "metadata": {},
     "output_type": "execute_result"
    }
   ],
   "source": [
    "accuracy_df"
   ]
  },
  {
   "cell_type": "markdown",
   "id": "921a42c4",
   "metadata": {},
   "source": [
    "### Conclusions:\n",
    "\n",
    "**Top three models are:**\n",
    "- SVM: 93.77%\n",
    "- Gradient Boosting: 93.77%\n",
    "- KNN: 93.23%"
   ]
  },
  {
   "cell_type": "markdown",
   "id": "9274d581",
   "metadata": {},
   "source": [
    "### Hyperparameter Tuning"
   ]
  },
  {
   "cell_type": "code",
   "execution_count": 25,
   "id": "abcb8e0c",
   "metadata": {},
   "outputs": [],
   "source": [
    "params ={\n",
    "    \"Logistic Regression\": {\n",
    "        \"C\": [1.0, 0.1, 0.01],\n",
    "        \"solver\": [\"lbfgs\", \"liblinear\", \"sag\", \"saga\"],\n",
    "        \"max_iter\": [100, 200, 300],\n",
    "    },\n",
    "\n",
    "    \"Decision Tree\": {\n",
    "        \"criterion\": [\"gini\", \"entropy\"],\n",
    "        \"max_depth\": [None, 10, 20, 30],\n",
    "        \"min_samples_split\": [2, 5, 10],\n",
    "    },\n",
    "\n",
    "    \"Random Forest\": {\n",
    "        \"n_estimators\": [100, 200, 300],\n",
    "        \"criterion\": [\"gini\", \"entropy\"],\n",
    "        \"max_depth\": [None, 10, 20, 30],\n",
    "        \"min_samples_split\": [2, 5, 10],\n",
    "    },\n",
    "\n",
    "    \"Ada Boost\": {\n",
    "        \"n_estimators\": [50, 100, 200],\n",
    "        \"learning_rate\": [0.01, 0.1, 1.0],\n",
    "    },\n",
    "\n",
    "    \"Extra Tree\": {\n",
    "        \"n_estimators\": [100, 200, 300],\n",
    "        \"criterion\": [\"gini\", \"entropy\"],\n",
    "        \"max_depth\": [None, 10, 20, 30],\n",
    "        \"min_samples_split\": [2, 5, 10],\n",
    "    },\n",
    "\n",
    "    \"KNN\": {\n",
    "        \"n_neighbors\": [3, 5, 7, 9],\n",
    "        \"weights\": [\"uniform\", \"distance\"],\n",
    "        \"algorithm\": [\"auto\", \"ball_tree\", \"kd_tree\", \"brute\"]\n",
    "    },\n",
    "\n",
    "    \"Gaussian Naive Bayes\": {\n",
    "        \"var_smoothing\": [1e-9, 1e-8, 1e-7]\n",
    "    },\n",
    "\n",
    "    \"XG Boost\": {\n",
    "        \"n_estimators\": [100, 200, 300],\n",
    "        \"learning_rate\": [0.01, 0.1, 0.2],\n",
    "        \"max_depth\": [3, 5, 7],\n",
    "        \"subsample\": [0.8, 0.9, 1.0]\n",
    "    },\n",
    "\n",
    "    \"Gradient Boosting\": {\n",
    "        \"n_estimators\": [100, 200, 300],\n",
    "        \"learning_rate\": [0.01, 0.1, 0.2],\n",
    "        \"max_depth\": [3, 5, 7],\n",
    "        \"subsample\": [0.8, 0.9, 1.0]\n",
    "    },\n",
    "\n",
    "    \"SVM\": {\n",
    "        \"C\": [0.1, 1.0, 10.0],\n",
    "        \"kernel\": [\"linear\", \"rbf\", \"poly\"],\n",
    "        \"gamma\": [\"scale\", \"auto\"]\n",
    "    }\n",
    "}"
   ]
  },
  {
   "cell_type": "code",
   "execution_count": 26,
   "id": "e2a6eb6a",
   "metadata": {},
   "outputs": [
    {
     "name": "stdout",
     "output_type": "stream",
     "text": [
      "Training Logistic Regression with GridSearchCV...\n",
      "Best parameters for Logistic Regression: {'C': 0.01, 'max_iter': 100, 'solver': 'lbfgs'}\n",
      "Best score for Logistic Regression: 0.93\n",
      "===================================\n",
      "Training Decision Tree with GridSearchCV...\n",
      "Best parameters for Decision Tree: {'criterion': 'entropy', 'max_depth': 10, 'min_samples_split': 10}\n",
      "Best score for Decision Tree: 0.92\n",
      "===================================\n",
      "Training Random Forest with GridSearchCV...\n",
      "Best parameters for Random Forest: {'criterion': 'gini', 'max_depth': 10, 'min_samples_split': 5, 'n_estimators': 300}\n",
      "Best score for Random Forest: 0.93\n",
      "===================================\n",
      "Training Ada Boost with GridSearchCV...\n",
      "Best parameters for Ada Boost: {'learning_rate': 0.1, 'n_estimators': 50}\n",
      "Best score for Ada Boost: 0.92\n",
      "===================================\n",
      "Training Extra Tree with GridSearchCV...\n",
      "Best parameters for Extra Tree: {'criterion': 'gini', 'max_depth': None, 'min_samples_split': 10, 'n_estimators': 100}\n",
      "Best score for Extra Tree: 0.93\n",
      "===================================\n",
      "Training KNN with GridSearchCV...\n",
      "Best parameters for KNN: {'algorithm': 'auto', 'n_neighbors': 9, 'weights': 'uniform'}\n",
      "Best score for KNN: 0.93\n",
      "===================================\n",
      "Training Gaussian Naive Bayes with GridSearchCV...\n",
      "Best parameters for Gaussian Naive Bayes: {'var_smoothing': 1e-09}\n",
      "Best score for Gaussian Naive Bayes: 0.93\n",
      "===================================\n",
      "Training XG Boost with GridSearchCV...\n"
     ]
    },
    {
     "name": "stderr",
     "output_type": "stream",
     "text": [
      "e:\\Projects\\Introvert vs Extrovert Classification Project\\venv\\Lib\\site-packages\\joblib\\externals\\loky\\process_executor.py:782: UserWarning: A worker stopped while some jobs were given to the executor. This can be caused by a too short worker timeout or by a memory leak.\n",
      "  warnings.warn(\n",
      "e:\\Projects\\Introvert vs Extrovert Classification Project\\venv\\Lib\\site-packages\\sklearn\\model_selection\\_validation.py:516: FitFailedWarning: \n",
      "1 fits failed out of a total of 405.\n",
      "The score on these train-test partitions for these parameters will be set to nan.\n",
      "If these failures are not expected, you can try to debug them by setting error_score='raise'.\n",
      "\n",
      "Below are more details about the failures:\n",
      "--------------------------------------------------------------------------------\n",
      "1 fits failed with the following error:\n",
      "Traceback (most recent call last):\n",
      "  File \"e:\\Projects\\Introvert vs Extrovert Classification Project\\venv\\Lib\\site-packages\\sklearn\\model_selection\\_validation.py\", line 859, in _fit_and_score\n",
      "    estimator.fit(X_train, y_train, **fit_params)\n",
      "  File \"e:\\Projects\\Introvert vs Extrovert Classification Project\\venv\\Lib\\site-packages\\xgboost\\core.py\", line 729, in inner_f\n",
      "    return func(**kwargs)\n",
      "           ^^^^^^^^^^^^^^\n",
      "  File \"e:\\Projects\\Introvert vs Extrovert Classification Project\\venv\\Lib\\site-packages\\xgboost\\sklearn.py\", line 1663, in fit\n",
      "    train_dmatrix, evals = _wrap_evaluation_matrices(\n",
      "                           ^^^^^^^^^^^^^^^^^^^^^^^^^^\n",
      "  File \"e:\\Projects\\Introvert vs Extrovert Classification Project\\venv\\Lib\\site-packages\\xgboost\\sklearn.py\", line 628, in _wrap_evaluation_matrices\n",
      "    train_dmatrix = create_dmatrix(\n",
      "                    ^^^^^^^^^^^^^^^\n",
      "  File \"e:\\Projects\\Introvert vs Extrovert Classification Project\\venv\\Lib\\site-packages\\xgboost\\sklearn.py\", line 1137, in _create_dmatrix\n",
      "    return QuantileDMatrix(\n",
      "           ^^^^^^^^^^^^^^^^\n",
      "  File \"e:\\Projects\\Introvert vs Extrovert Classification Project\\venv\\Lib\\site-packages\\xgboost\\core.py\", line 729, in inner_f\n",
      "    return func(**kwargs)\n",
      "           ^^^^^^^^^^^^^^\n",
      "  File \"e:\\Projects\\Introvert vs Extrovert Classification Project\\venv\\Lib\\site-packages\\xgboost\\core.py\", line 1614, in __init__\n",
      "    self._init(\n",
      "  File \"e:\\Projects\\Introvert vs Extrovert Classification Project\\venv\\Lib\\site-packages\\xgboost\\core.py\", line 1678, in _init\n",
      "    it.reraise()\n",
      "  File \"e:\\Projects\\Introvert vs Extrovert Classification Project\\venv\\Lib\\site-packages\\xgboost\\core.py\", line 572, in reraise\n",
      "    raise exc  # pylint: disable=raising-bad-type\n",
      "    ^^^^^^^^^\n",
      "  File \"e:\\Projects\\Introvert vs Extrovert Classification Project\\venv\\Lib\\site-packages\\xgboost\\core.py\", line 553, in _handle_exception\n",
      "    return fn()\n",
      "           ^^^^\n",
      "  File \"e:\\Projects\\Introvert vs Extrovert Classification Project\\venv\\Lib\\site-packages\\xgboost\\core.py\", line 640, in <lambda>\n",
      "    return self._handle_exception(lambda: int(self.next(input_data)), 0)\n",
      "                                              ^^^^^^^^^^^^^^^^^^^^^\n",
      "  File \"e:\\Projects\\Introvert vs Extrovert Classification Project\\venv\\Lib\\site-packages\\xgboost\\data.py\", line 1654, in next\n",
      "    input_data(**self.kwargs)\n",
      "  File \"e:\\Projects\\Introvert vs Extrovert Classification Project\\venv\\Lib\\site-packages\\xgboost\\core.py\", line 729, in inner_f\n",
      "    return func(**kwargs)\n",
      "           ^^^^^^^^^^^^^^\n",
      "  File \"e:\\Projects\\Introvert vs Extrovert Classification Project\\venv\\Lib\\site-packages\\xgboost\\core.py\", line 629, in input_data\n",
      "    self.proxy.set_info(\n",
      "  File \"e:\\Projects\\Introvert vs Extrovert Classification Project\\venv\\Lib\\site-packages\\xgboost\\core.py\", line 729, in inner_f\n",
      "    return func(**kwargs)\n",
      "           ^^^^^^^^^^^^^^\n",
      "  File \"e:\\Projects\\Introvert vs Extrovert Classification Project\\venv\\Lib\\site-packages\\xgboost\\core.py\", line 961, in set_info\n",
      "    self.set_label(label)\n",
      "  File \"e:\\Projects\\Introvert vs Extrovert Classification Project\\venv\\Lib\\site-packages\\xgboost\\core.py\", line 1099, in set_label\n",
      "    dispatch_meta_backend(self, label, \"label\", \"float\")\n",
      "  File \"e:\\Projects\\Introvert vs Extrovert Classification Project\\venv\\Lib\\site-packages\\xgboost\\data.py\", line 1603, in dispatch_meta_backend\n",
      "    _meta_from_pandas_series(data, name, dtype, handle)\n",
      "  File \"e:\\Projects\\Introvert vs Extrovert Classification Project\\venv\\Lib\\site-packages\\xgboost\\data.py\", line 713, in _meta_from_pandas_series\n",
      "    _meta_from_numpy(data, name, dtype, handle)\n",
      "  File \"e:\\Projects\\Introvert vs Extrovert Classification Project\\venv\\Lib\\site-packages\\xgboost\\data.py\", line 1533, in _meta_from_numpy\n",
      "    _check_call(_LIB.XGDMatrixSetInfoFromInterface(handle, c_str(field), interface_str))\n",
      "  File \"e:\\Projects\\Introvert vs Extrovert Classification Project\\venv\\Lib\\site-packages\\xgboost\\core.py\", line 310, in _check_call\n",
      "    raise XGBoostError(py_str(_LIB.XGBGetLastError()))\n",
      "xgboost.core.XGBoostError: [21:30:54] C:\\actions-runner\\_work\\xgboost\\xgboost\\src\\data\\array_interface.cu:44: Check failed: err == cudaGetLastError() (0 vs. 46) : \n",
      "\n",
      "  warnings.warn(some_fits_failed_message, FitFailedWarning)\n",
      "e:\\Projects\\Introvert vs Extrovert Classification Project\\venv\\Lib\\site-packages\\sklearn\\model_selection\\_search.py:1135: UserWarning: One or more of the test scores are non-finite: [       nan 0.93270959 0.93270959 0.93270959 0.93270959 0.93270959\n",
      " 0.93270959 0.93270959 0.93270959 0.93270959 0.93270959 0.93270959\n",
      " 0.93270959 0.93270959 0.93270959 0.93270959 0.93270959 0.93270959\n",
      " 0.93137031 0.9313723  0.93047944 0.93226416 0.9313723  0.93092587\n",
      " 0.93092686 0.9313723  0.93047944 0.93315602 0.93315602 0.93181674\n",
      " 0.930034   0.93092587 0.93092388 0.9260241  0.92691596 0.92914413\n",
      " 0.92780783 0.92914314 0.92958658 0.91756085 0.92067988 0.92156876\n",
      " 0.91488626 0.91310651 0.91577613 0.91978802 0.92156876 0.92334951\n",
      " 0.90998449 0.90954005 0.9139934  0.90641903 0.9059726  0.90820375\n",
      " 0.92958956 0.9313723  0.93003301 0.9260251  0.92424236 0.92646954\n",
      " 0.92156976 0.92023445 0.92424336 0.91666998 0.92068088 0.92112333\n",
      " 0.90731387 0.90553015 0.91132079 0.90018195 0.90241012 0.90508272\n",
      " 0.90909362 0.90909362 0.91711442 0.90018195 0.89795279 0.90641406\n",
      " 0.89884366 0.89305103 0.90151527]\n",
      "  warnings.warn(\n"
     ]
    },
    {
     "name": "stdout",
     "output_type": "stream",
     "text": [
      "Best parameters for XG Boost: {'learning_rate': 0.1, 'max_depth': 3, 'n_estimators': 100, 'subsample': 0.8}\n",
      "Best score for XG Boost: 0.93\n",
      "===================================\n",
      "Training Gradient Boosting with GridSearchCV...\n",
      "Best parameters for Gradient Boosting: {'learning_rate': 0.01, 'max_depth': 3, 'n_estimators': 100, 'subsample': 0.8}\n",
      "Best score for Gradient Boosting: 0.93\n",
      "===================================\n",
      "Training SVM with GridSearchCV...\n",
      "Best parameters for SVM: {'C': 0.1, 'gamma': 'scale', 'kernel': 'rbf'}\n",
      "Best score for SVM: 0.93\n",
      "===================================\n",
      "Model: Logistic Regression\n",
      "- Accuracy: 0.93\n",
      "- Precision: 0.93\n",
      "- Recall: 0.92\n",
      "- F1 Score: 0.93\n",
      "===================================\n",
      "Model: Decision Tree\n",
      "- Accuracy: 0.93\n",
      "- Precision: 0.92\n",
      "- Recall: 0.94\n",
      "- F1 Score: 0.93\n",
      "===================================\n",
      "Model: Random Forest\n",
      "- Accuracy: 0.94\n",
      "- Precision: 0.93\n",
      "- Recall: 0.94\n",
      "- F1 Score: 0.94\n",
      "===================================\n",
      "Model: Ada Boost\n",
      "- Accuracy: 0.93\n",
      "- Precision: 0.93\n",
      "- Recall: 0.93\n",
      "- F1 Score: 0.93\n",
      "===================================\n",
      "Model: Extra Tree\n",
      "- Accuracy: 0.94\n",
      "- Precision: 0.93\n",
      "- Recall: 0.94\n",
      "- F1 Score: 0.94\n",
      "===================================\n",
      "Model: KNN\n",
      "- Accuracy: 0.93\n",
      "- Precision: 0.93\n",
      "- Recall: 0.94\n",
      "- F1 Score: 0.93\n",
      "===================================\n",
      "Model: Gaussian Naive Bayes\n",
      "- Accuracy: 0.93\n",
      "- Precision: 0.93\n",
      "- Recall: 0.92\n",
      "- F1 Score: 0.92\n",
      "===================================\n",
      "Model: XG Boost\n",
      "- Accuracy: 0.94\n",
      "- Precision: 0.93\n",
      "- Recall: 0.94\n",
      "- F1 Score: 0.94\n",
      "===================================\n",
      "Model: Gradient Boosting\n",
      "- Accuracy: 0.94\n",
      "- Precision: 0.93\n",
      "- Recall: 0.94\n",
      "- F1 Score: 0.94\n",
      "===================================\n",
      "Model: SVM\n",
      "- Accuracy: 0.94\n",
      "- Precision: 0.93\n",
      "- Recall: 0.94\n",
      "- F1 Score: 0.94\n",
      "===================================\n"
     ]
    }
   ],
   "source": [
    "best_models = {}\n",
    "for model_name, model in models.items():\n",
    "    print(f\"Training {model_name} with GridSearchCV...\")\n",
    "    grid_search = GridSearchCV(model, params[model_name], cv=5, scoring='accuracy', n_jobs=-1)\n",
    "    grid_search.fit(X_train, y_train)\n",
    "\n",
    "    best_model = grid_search.best_estimator_\n",
    "    best_models[model_name] = best_model\n",
    "\n",
    "    print(f\"Best parameters for {model_name}: {grid_search.best_params_}\")\n",
    "    print(f\"Best score for {model_name}: {grid_search.best_score_:.2f}\")\n",
    "    print('='*35)\n",
    "\n",
    "# Evaluate the best models on the test set\n",
    "for model_name, model in best_models.items():\n",
    "    y_test_pred = model.predict(X_test)\n",
    "    accuracy, precision, recall, f1_scr = evaluate_model(y_test_pred, y_test)\n",
    "\n",
    "    print(f\"Model: {model_name}\")\n",
    "    print(f\"- Accuracy: {accuracy:.2f}\")\n",
    "    print(f\"- Precision: {precision:.2f}\")\n",
    "    print(f\"- Recall: {recall:.2f}\")\n",
    "    print(f\"- F1 Score: {f1_scr:.2f}\")\n",
    "    print('='*35)"
   ]
  },
  {
   "cell_type": "markdown",
   "id": "3e6e5cbd",
   "metadata": {},
   "source": [
    "### Model Selection\n",
    "\n",
    "We'll use SVM model for this classification project which gives around 94% of accuracy."
   ]
  },
  {
   "cell_type": "code",
   "execution_count": 11,
   "id": "f1613aa0",
   "metadata": {},
   "outputs": [
    {
     "name": "stdout",
     "output_type": "stream",
     "text": [
      "SVM Model Performance on Test Set:\n",
      "- Accuracy: 0.94\n",
      "- Precision: 0.93\n",
      "- Recall: 0.94\n",
      "- F1 Score: 0.94\n"
     ]
    }
   ],
   "source": [
    "svm = SVC(C=0.1, gamma='scale', kernel='rbf')\n",
    "svm.fit(X_train, y_train)\n",
    "y_pred = svm.predict(X_test)\n",
    "accuracy, precision, recall, f1_scr = evaluate_model(y_pred, y_test)\n",
    "print(f\"SVM Model Performance on Test Set:\")\n",
    "print(f\"- Accuracy: {accuracy:.2f}\")\n",
    "print(f\"- Precision: {precision:.2f}\")\n",
    "print(f\"- Recall: {recall:.2f}\")\n",
    "print(f\"- F1 Score: {f1_scr:.2f}\")"
   ]
  },
  {
   "cell_type": "code",
   "execution_count": 14,
   "id": "10c23fe0",
   "metadata": {},
   "outputs": [
    {
     "data": {
      "image/png": "[encoded data removed]",
      "text/plain": [
       "<Figure size 1000x700 with 2 Axes>"
      ]
     },
     "metadata": {},
     "output_type": "display_data"
    }
   ],
   "source": [
    "cm = confusion_matrix(y_test, y_pred)\n",
    "plt.figure(figsize=(10, 7))\n",
    "sns.heatmap(cm, annot=True, fmt='d', cmap='Blues', xticklabels=np.unique(y), yticklabels=np.unique(y))\n",
    "plt.title('Confusion Matrix for SVM Model')\n",
    "plt.xlabel('Predicted')\n",
    "plt.ylabel('Actual')\n",
    "plt.show()"
   ]
  },
  {
   "cell_type": "code",
   "execution_count": 12,
   "id": "854acbbc",
   "metadata": {},
   "outputs": [
    {
     "data": {
      "image/png": "[encoded data removed]",
      "text/plain": [
       "<Figure size 1000x800 with 1 Axes>"
      ]
     },
     "metadata": {},
     "output_type": "display_data"
    }
   ],
   "source": [
    "# 3D Plotting\n",
    "from mpl_toolkits.mplot3d import Axes3D\n",
    "fig = plt.figure(figsize=(10, 8))\n",
    "ax = fig.add_subplot(111, projection='3d')\n",
    "ax.scatter(X_test[:, 0], X_test[:, 1], X_test[:, 2], c=y_test, cmap='viridis', marker='o', s=50)\n",
    "ax.set_xlabel('Feature 1')\n",
    "ax.set_ylabel('Feature 2')\n",
    "ax.set_zlabel('Feature 3')\n",
    "plt.title('3D Scatter Plot of Test Data')\n",
    "plt.show()"
   ]
  },
  {
   "cell_type": "code",
   "execution_count": 13,
   "id": "3354bd4c",
   "metadata": {},
   "outputs": [
    {
     "data": {
      "application/vnd.plotly.v1+json": {
       "config": {
        "plotlyServerURL": "https://plot.ly"
       },
       "data": [
        {
         "hovertemplate": "Feature 1=%{x}<br>Feature 2=%{y}<br>Feature 3=%{z}<br>color=%{marker.color}<extra></extra>",
         "legendgroup": "",
         "marker": {
          "color": {
           "bdata": "AQEBAQABAQAAAQEAAAAAAQAAAAAAAAEAAAAAAAEAAQABAAEBAAABAAEBAAEBAAEAAQEBAQABAQAAAQABAAAAAAEBAQABAQABAQEBAAABAAABAQABAAABAQAAAAAAAQABAQEBAQABAQEAAQAAAQAAAQAAAQAAAAEBAQABAAABAQAAAAABAQAAAQEBAAEAAAABAAAAAAEBAQAAAAAAAQEAAAABAQEBAAEBAAEBAAABAQEBAAABAAABAQAAAAEBAAAAAQABAAEBAQEBAQAAAQEBAAEAAQABAQEBAAABAAEAAAEAAQEAAQEAAAABAAAAAQEAAAEBAAEBAAAAAQAAAAEBAQEBAQAAAQEBAAEAAAABAQEAAAAAAAAAAAABAQAAAAEBAAAAAQAAAQAAAQABAAEAAQEBAQAAAAAAAAAAAAEBAQEBAAAAAQEBAAABAAABAAABAAEBAAABAAAAAQEBAAABAAABAAABAAEBAAEAAQEAAAABAAEBAQEBAQAAAAEAAQEAAQEBAAEAAAEAAQABAQEBAAEAAQEAAQEAAQAAAAABAAABAAAAAAEAAQEAAAEBAAEBAQEAAQEBAAEBAQABAQEBAAABAAABAQEBAQEAAQABAQABAQEBAQEBAQEBAQAAAQABAAEAAAEAAAABAAABAQABAAABAAEBAQABAAABAAEBAQAAAQEAAQAAAAAAAAABAAEBAQEAAAABAAEAAAEAAAEAAQABAAAAAQEBAAABAAAAAQEBAA==",
           "dtype": "i1"
          },
          "coloraxis": "coloraxis",
          "size": 5,
          "symbol": "circle"
         },
         "mode": "markers",
         "name": "",
         "scene": "scene",
         "showlegend": false,
         "type": "scatter3d",
         "x": {
          "bdata": "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",
          "dtype": "f8"
         },
         "y": {
          "bdata": "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",
          "dtype": "f8"
         },
         "z": {
          "bdata": "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",
          "dtype": "f8"
         }
        }
       ],
       "layout": {
        "coloraxis": {
         "colorbar": {
          "title": {
           "text": "color"
          }
         },
         "colorscale": [
          [
           0,
           "#0d0887"
          ],
          [
           0.1111111111111111,
           "#46039f"
          ],
          [
           0.2222222222222222,
           "#7201a8"
          ],
          [
           0.3333333333333333,
           "#9c179e"
          ],
          [
           0.4444444444444444,
           "#bd3786"
          ],
          [
           0.5555555555555556,
           "#d8576b"
          ],
          [
           0.6666666666666666,
           "#ed7953"
          ],
          [
           0.7777777777777778,
           "#fb9f3a"
          ],
          [
           0.8888888888888888,
           "#fdca26"
          ],
          [
           1,
           "#f0f921"
          ]
         ]
        },
        "legend": {
         "tracegroupgap": 0
        },
        "scene": {
         "domain": {
          "x": [
           0,
           1
          ],
          "y": [
           0,
           1
          ]
         },
         "xaxis": {
          "title": {
           "text": "Feature 1"
          }
         },
         "yaxis": {
          "title": {
           "text": "Feature 2"
          }
         },
         "zaxis": {
          "title": {
           "text": "Feature 3"
          }
         }
        },
        "template": {
         "data": {
          "bar": [
           {
            "error_x": {
             "color": "#2a3f5f"
            },
            "error_y": {
             "color": "#2a3f5f"
            },
            "marker": {
             "line": {
              "color": "#E5ECF6",
              "width": 0.5
             },
             "pattern": {
              "fillmode": "overlay",
              "size": 10,
              "solidity": 0.2
             }
            },
            "type": "bar"
           }
          ],
          "barpolar": [
           {
            "marker": {
             "line": {
              "color": "#E5ECF6",
              "width": 0.5
             },
             "pattern": {
              "fillmode": "overlay",
              "size": 10,
              "solidity": 0.2
             }
            },
            "type": "barpolar"
           }
          ],
          "carpet": [
           {
            "aaxis": {
             "endlinecolor": "#2a3f5f",
             "gridcolor": "white",
             "linecolor": "white",
             "minorgridcolor": "white",
             "startlinecolor": "#2a3f5f"
            },
            "baxis": {
             "endlinecolor": "#2a3f5f",
             "gridcolor": "white",
             "linecolor": "white",
             "minorgridcolor": "white",
             "startlinecolor": "#2a3f5f"
            },
            "type": "carpet"
           }
          ],
          "choropleth": [
           {
            "colorbar": {
             "outlinewidth": 0,
             "ticks": ""
            },
            "type": "choropleth"
           }
          ],
          "contour": [
           {
            "colorbar": {
             "outlinewidth": 0,
             "ticks": ""
            },
            "colorscale": [
             [
              0,
              "#0d0887"
             ],
             [
              0.1111111111111111,
              "#46039f"
             ],
             [
              0.2222222222222222,
              "#7201a8"
             ],
             [
              0.3333333333333333,
              "#9c179e"
             ],
             [
              0.4444444444444444,
              "#bd3786"
             ],
             [
              0.5555555555555556,
              "#d8576b"
             ],
             [
              0.6666666666666666,
              "#ed7953"
             ],
             [
              0.7777777777777778,
              "#fb9f3a"
             ],
             [
              0.8888888888888888,
              "#fdca26"
             ],
             [
              1,
              "#f0f921"
             ]
            ],
            "type": "contour"
           }
          ],
          "contourcarpet": [
           {
            "colorbar": {
             "outlinewidth": 0,
             "ticks": ""
            },
            "type": "contourcarpet"
           }
          ],
          "heatmap": [
           {
            "colorbar": {
             "outlinewidth": 0,
             "ticks": ""
            },
            "colorscale": [
             [
              0,
              "#0d0887"
             ],
             [
              0.1111111111111111,
              "#46039f"
             ],
             [
              0.2222222222222222,
              "#7201a8"
             ],
             [
              0.3333333333333333,
              "#9c179e"
             ],
             [
              0.4444444444444444,
              "#bd3786"
             ],
             [
              0.5555555555555556,
              "#d8576b"
             ],
             [
              0.6666666666666666,
              "#ed7953"
             ],
             [
              0.7777777777777778,
              "#fb9f3a"
             ],
             [
              0.8888888888888888,
              "#fdca26"
             ],
             [
              1,
              "#f0f921"
             ]
            ],
            "type": "heatmap"
           }
          ],
          "histogram": [
           {
            "marker": {
             "pattern": {
              "fillmode": "overlay",
              "size": 10,
              "solidity": 0.2
             }
            },
            "type": "histogram"
           }
          ],
          "histogram2d": [
           {
            "colorbar": {
             "outlinewidth": 0,
             "ticks": ""
            },
            "colorscale": [
             [
              0,
              "#0d0887"
             ],
             [
              0.1111111111111111,
              "#46039f"
             ],
             [
              0.2222222222222222,
              "#7201a8"
             ],
             [
              0.3333333333333333,
              "#9c179e"
             ],
             [
              0.4444444444444444,
              "#bd3786"
             ],
             [
              0.5555555555555556,
              "#d8576b"
             ],
             [
              0.6666666666666666,
              "#ed7953"
             ],
             [
              0.7777777777777778,
              "#fb9f3a"
             ],
             [
              0.8888888888888888,
              "#fdca26"
             ],
             [
              1,
              "#f0f921"
             ]
            ],
            "type": "histogram2d"
           }
          ],
          "histogram2dcontour": [
           {
            "colorbar": {
             "outlinewidth": 0,
             "ticks": ""
            },
            "colorscale": [
             [
              0,
              "#0d0887"
             ],
             [
              0.1111111111111111,
              "#46039f"
             ],
             [
              0.2222222222222222,
              "#7201a8"
             ],
             [
              0.3333333333333333,
              "#9c179e"
             ],
             [
              0.4444444444444444,
              "#bd3786"
             ],
             [
              0.5555555555555556,
              "#d8576b"
             ],
             [
              0.6666666666666666,
              "#ed7953"
             ],
             [
              0.7777777777777778,
              "#fb9f3a"
             ],
             [
              0.8888888888888888,
              "#fdca26"
             ],
             [
              1,
              "#f0f921"
             ]
            ],
            "type": "histogram2dcontour"
           }
          ],
          "mesh3d": [
           {
            "colorbar": {
             "outlinewidth": 0,
             "ticks": ""
            },
            "type": "mesh3d"
           }
          ],
          "parcoords": [
           {
            "line": {
             "colorbar": {
              "outlinewidth": 0,
              "ticks": ""
             }
            },
            "type": "parcoords"
           }
          ],
          "pie": [
           {
            "automargin": true,
            "type": "pie"
           }
          ],
          "scatter": [
           {
            "fillpattern": {
             "fillmode": "overlay",
             "size": 10,
             "solidity": 0.2
            },
            "type": "scatter"
           }
          ],
          "scatter3d": [
           {
            "line": {
             "colorbar": {
              "outlinewidth": 0,
              "ticks": ""
             }
            },
            "marker": {
             "colorbar": {
              "outlinewidth": 0,
              "ticks": ""
             }
            },
            "type": "scatter3d"
           }
          ],
          "scattercarpet": [
           {
            "marker": {
             "colorbar": {
              "outlinewidth": 0,
              "ticks": ""
             }
            },
            "type": "scattercarpet"
           }
          ],
          "scattergeo": [
           {
            "marker": {
             "colorbar": {
              "outlinewidth": 0,
              "ticks": ""
             }
            },
            "type": "scattergeo"
           }
          ],
          "scattergl": [
           {
            "marker": {
             "colorbar": {
              "outlinewidth": 0,
              "ticks": ""
             }
            },
            "type": "scattergl"
           }
          ],
          "scattermap": [
           {
            "marker": {
             "colorbar": {
              "outlinewidth": 0,
              "ticks": ""
             }
            },
            "type": "scattermap"
           }
          ],
          "scattermapbox": [
           {
            "marker": {
             "colorbar": {
              "outlinewidth": 0,
              "ticks": ""
             }
            },
            "type": "scattermapbox"
           }
          ],
          "scatterpolar": [
           {
            "marker": {
             "colorbar": {
              "outlinewidth": 0,
              "ticks": ""
             }
            },
            "type": "scatterpolar"
           }
          ],
          "scatterpolargl": [
           {
            "marker": {
             "colorbar": {
              "outlinewidth": 0,
              "ticks": ""
             }
            },
            "type": "scatterpolargl"
           }
          ],
          "scatterternary": [
           {
            "marker": {
             "colorbar": {
              "outlinewidth": 0,
              "ticks": ""
             }
            },
            "type": "scatterternary"
           }
          ],
          "surface": [
           {
            "colorbar": {
             "outlinewidth": 0,
             "ticks": ""
            },
            "colorscale": [
             [
              0,
              "#0d0887"
             ],
             [
              0.1111111111111111,
              "#46039f"
             ],
             [
              0.2222222222222222,
              "#7201a8"
             ],
             [
              0.3333333333333333,
              "#9c179e"
             ],
             [
              0.4444444444444444,
              "#bd3786"
             ],
             [
              0.5555555555555556,
              "#d8576b"
             ],
             [
              0.6666666666666666,
              "#ed7953"
             ],
             [
              0.7777777777777778,
              "#fb9f3a"
             ],
             [
              0.8888888888888888,
              "#fdca26"
             ],
             [
              1,
              "#f0f921"
             ]
            ],
            "type": "surface"
           }
          ],
          "table": [
           {
            "cells": {
             "fill": {
              "color": "#EBF0F8"
             },
             "line": {
              "color": "white"
             }
            },
            "header": {
             "fill": {
              "color": "#C8D4E3"
             },
             "line": {
              "color": "white"
             }
            },
            "type": "table"
           }
          ]
         },
         "layout": {
          "annotationdefaults": {
           "arrowcolor": "#2a3f5f",
           "arrowhead": 0,
           "arrowwidth": 1
          },
          "autotypenumbers": "strict",
          "coloraxis": {
           "colorbar": {
            "outlinewidth": 0,
            "ticks": ""
           }
          },
          "colorscale": {
           "diverging": [
            [
             0,
             "#8e0152"
            ],
            [
             0.1,
             "#c51b7d"
            ],
            [
             0.2,
             "#de77ae"
            ],
            [
             0.3,
             "#f1b6da"
            ],
            [
             0.4,
             "#fde0ef"
            ],
            [
             0.5,
             "#f7f7f7"
            ],
            [
             0.6,
             "#e6f5d0"
            ],
            [
             0.7,
             "#b8e186"
            ],
            [
             0.8,
             "#7fbc41"
            ],
            [
             0.9,
             "#4d9221"
            ],
            [
             1,
             "#276419"
            ]
           ],
           "sequential": [
            [
             0,
             "#0d0887"
            ],
            [
             0.1111111111111111,
             "#46039f"
            ],
            [
             0.2222222222222222,
             "#7201a8"
            ],
            [
             0.3333333333333333,
             "#9c179e"
            ],
            [
             0.4444444444444444,
             "#bd3786"
            ],
            [
             0.5555555555555556,
             "#d8576b"
            ],
            [
             0.6666666666666666,
             "#ed7953"
            ],
            [
             0.7777777777777778,
             "#fb9f3a"
            ],
            [
             0.8888888888888888,
             "#fdca26"
            ],
            [
             1,
             "#f0f921"
            ]
           ],
           "sequentialminus": [
            [
             0,
             "#0d0887"
            ],
            [
             0.1111111111111111,
             "#46039f"
            ],
            [
             0.2222222222222222,
             "#7201a8"
            ],
            [
             0.3333333333333333,
             "#9c179e"
            ],
            [
             0.4444444444444444,
             "#bd3786"
            ],
            [
             0.5555555555555556,
             "#d8576b"
            ],
            [
             0.6666666666666666,
             "#ed7953"
            ],
            [
             0.7777777777777778,
             "#fb9f3a"
            ],
            [
             0.8888888888888888,
             "#fdca26"
            ],
            [
             1,
             "#f0f921"
            ]
           ]
          },
          "colorway": [
           "#636efa",
           "#EF553B",
           "#00cc96",
           "#ab63fa",
           "#FFA15A",
           "#19d3f3",
           "#FF6692",
           "#B6E880",
           "#FF97FF",
           "#FECB52"
          ],
          "font": {
           "color": "#2a3f5f"
          },
          "geo": {
           "bgcolor": "white",
           "lakecolor": "white",
           "landcolor": "#E5ECF6",
           "showlakes": true,
           "showland": true,
           "subunitcolor": "white"
          },
          "hoverlabel": {
           "align": "left"
          },
          "hovermode": "closest",
          "mapbox": {
           "style": "light"
          },
          "paper_bgcolor": "white",
          "plot_bgcolor": "#E5ECF6",
          "polar": {
           "angularaxis": {
            "gridcolor": "white",
            "linecolor": "white",
            "ticks": ""
           },
           "bgcolor": "#E5ECF6",
           "radialaxis": {
            "gridcolor": "white",
            "linecolor": "white",
            "ticks": ""
           }
          },
          "scene": {
           "xaxis": {
            "backgroundcolor": "#E5ECF6",
            "gridcolor": "white",
            "gridwidth": 2,
            "linecolor": "white",
            "showbackground": true,
            "ticks": "",
            "zerolinecolor": "white"
           },
           "yaxis": {
            "backgroundcolor": "#E5ECF6",
            "gridcolor": "white",
            "gridwidth": 2,
            "linecolor": "white",
            "showbackground": true,
            "ticks": "",
            "zerolinecolor": "white"
           },
           "zaxis": {
            "backgroundcolor": "#E5ECF6",
            "gridcolor": "white",
            "gridwidth": 2,
            "linecolor": "white",
            "showbackground": true,
            "ticks": "",
            "zerolinecolor": "white"
           }
          },
          "shapedefaults": {
           "line": {
            "color": "#2a3f5f"
           }
          },
          "ternary": {
           "aaxis": {
            "gridcolor": "white",
            "linecolor": "white",
            "ticks": ""
           },
           "baxis": {
            "gridcolor": "white",
            "linecolor": "white",
            "ticks": ""
           },
           "bgcolor": "#E5ECF6",
           "caxis": {
            "gridcolor": "white",
            "linecolor": "white",
            "ticks": ""
           }
          },
          "title": {
           "x": 0.05
          },
          "xaxis": {
           "automargin": true,
           "gridcolor": "white",
           "linecolor": "white",
           "ticks": "",
           "title": {
            "standoff": 15
           },
           "zerolinecolor": "white",
           "zerolinewidth": 2
          },
          "yaxis": {
           "automargin": true,
           "gridcolor": "white",
           "linecolor": "white",
           "ticks": "",
           "title": {
            "standoff": 15
           },
           "zerolinecolor": "white",
           "zerolinewidth": 2
          }
         }
        },
        "title": {
         "text": "3D Scatter Plot of Test Data"
        }
       }
      }
     },
     "metadata": {},
     "output_type": "display_data"
    }
   ],
   "source": [
    "# 3D Plotting using Plotly\n",
    "import plotly.express as px\n",
    "fig = px.scatter_3d(\n",
    "    x=X_test[:, 0], \n",
    "    y=X_test[:, 1], \n",
    "    z=X_test[:, 2], \n",
    "    color=y_test, \n",
    "    labels={'x': 'Feature 1', 'y': 'Feature 2', 'z': 'Feature 3'},\n",
    "    title='3D Scatter Plot of Test Data'\n",
    ")\n",
    "fig.update_traces(marker=dict(size=5))\n",
    "fig.show()"
   ]
  },
  {
   "cell_type": "code",
   "execution_count": null,
   "id": "6a6a7b7e",
   "metadata": {},
   "outputs": [],
   "source": []
  }
 ],
 "metadata": {
  "kernelspec": {
   "display_name": "Python 3",
   "language": "python",
   "name": "python3"
  },
  "language_info": {
   "codemirror_mode": {
    "name": "ipython",
    "version": 3
   },
   "file_extension": ".py",
   "mimetype": "text/x-python",
   "name": "python",
   "nbconvert_exporter": "python",
   "pygments_lexer": "ipython3",
   "version": "3.12.0"
  }
 },
 "nbformat": 4,
 "nbformat_minor": 5
}
